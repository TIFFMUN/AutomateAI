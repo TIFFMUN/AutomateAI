{
 "cells": [
  {
   "cell_type": "code",
   "execution_count": 1,
   "id": "c0097cc7",
   "metadata": {},
   "outputs": [],
   "source": [
    "# !pip3 install pinecone\n"
   ]
  },
  {
   "cell_type": "code",
   "execution_count": 2,
   "id": "a6c916e0",
   "metadata": {},
   "outputs": [],
   "source": [
    "# # Import the Pinecone library\n",
    "# from pinecone import Pinecone\n",
    "\n",
    "# # Initialize a Pinecone client with your API key\n",
    "# pc = Pinecone(api_key=\"pcsk_4qt3ZT_U7hLvXByvnhPbktY96YWtg4vh4TQqURmWBWHuLJZquBFQTBNXaaayfbPo8G7ZmT\")\n",
    "\n",
    "# # Create a dense index with integrated embedding\n",
    "# index_name = \"quickstart-py\"\n",
    "# if not pc.has_index(index_name):\n",
    "#     pc.create_index_for_model(\n",
    "#         name=index_name,\n",
    "#         cloud=\"aws\",\n",
    "#         region=\"us-east-1\",\n",
    "#         embed={\n",
    "#             \"model\":\"llama-text-embed-v2\",\n",
    "#             \"field_map\":{\"text\": \"chunk_text\"}\n",
    "#         }\n",
    "#     )\n"
   ]
  },
  {
   "cell_type": "code",
   "execution_count": 3,
   "id": "c6a636ce",
   "metadata": {},
   "outputs": [],
   "source": [
    "# records = [\n",
    "#     {\n",
    "#         \"_id\": \"rec1\",\n",
    "#         \"chunk_text\": \"What is SAP used for? SAP is software that helps companies manage business activities like finance, sales, supply chain, and HR. It keeps all important data in one system so different teams can work together smoothly.\",\n",
    "#         \"category\": \"SAP Overview\"\n",
    "#     },\n",
    "#     {\n",
    "#         \"_id\": \"rec2\",\n",
    "#         \"chunk_text\": \"What is SAP HANA? SAP HANA is a fast database that stores company information in memory. This makes reports and analytics much faster compared to traditional databases.\",\n",
    "#         \"category\": \"SAP Overview\"\n",
    "#     },\n",
    "#     {\n",
    "#         \"_id\": \"rec3\",\n",
    "#         \"chunk_text\": \"What is the difference between SAP ECC and SAP S/4HANA? SAP ECC is the older version of SAP's ERP system. SAP S/4HANA is the newer version, designed to be faster and simpler, and it runs only on the HANA database.\",\n",
    "#         \"category\": \"SAP Overview\"\n",
    "#     },\n",
    "#     {\n",
    "#         \"_id\": \"rec4\",\n",
    "#         \"chunk_text\": \"What does 'in-memory' mean in SAP HANA? It means data is stored in the computer's memory (RAM) instead of on a hard disk. This allows SAP to process data in real time, like generating instant reports.\",\n",
    "#         \"category\": \"SAP Overview\"\n",
    "#     },\n",
    "#     {\n",
    "#         \"_id\": \"rec5\",\n",
    "#         \"chunk_text\": \"What is SAP Fiori? SAP Fiori is a modern, user-friendly way to use SAP applications. It looks like apps on your phone, making it easier to navigate compared to the older SAP screens.\",\n",
    "#         \"category\": \"SAP Interface\"\n",
    "#     },\n",
    "#     {\n",
    "#         \"_id\": \"rec6\",\n",
    "#         \"chunk_text\": \"How does SAP keep data secure? SAP uses login credentials, role-based permissions, and data encryption. This ensures employees only see the information they need for their job.\",\n",
    "#         \"category\": \"SAP Security\"\n",
    "#     },\n",
    "#     {\n",
    "#         \"_id\": \"rec7\",\n",
    "#         \"chunk_text\": \"How do I access the company email system? New employees can access the company email via Outlook using your corporate credentials. Set up instructions are in the IT onboarding guide.\",\n",
    "#         \"category\": \"IT & Tools\"\n",
    "#     },\n",
    "#     {\n",
    "#         \"_id\": \"rec8\",\n",
    "#         \"chunk_text\": \"Who should I contact for HR-related questions? For questions about benefits, leave, or payroll, contact the HR team at hr@company.com or check the HR portal.\",\n",
    "#         \"category\": \"HR\"\n",
    "#     },\n",
    "#     {\n",
    "#         \"_id\": \"rec9\",\n",
    "#         \"chunk_text\": \"How do I log into the internal SAP system? Use your employee ID and temporary password provided during onboarding. After first login, you’ll be prompted to set a new password.\",\n",
    "#         \"category\": \"SAP Access\"\n",
    "#     },\n",
    "#     {\n",
    "#         \"_id\": \"rec10\",\n",
    "#         \"chunk_text\": \"Where can I find company policies and guidelines? All company policies are available in the internal employee portal under 'Documents & Policies'.\",\n",
    "#         \"category\": \"Policies\"\n",
    "#     },\n",
    "#     {\n",
    "#         \"_id\": \"rec11\",\n",
    "#         \"chunk_text\": \"Who do I contact if I have technical issues? Contact the IT helpdesk at it-support@company.com or submit a ticket via the support portal for assistance.\",\n",
    "#         \"category\": \"IT & Support\"\n",
    "#     }\n",
    "# ]\n"
   ]
  },
  {
   "cell_type": "code",
   "execution_count": 4,
   "id": "c2417ed3",
   "metadata": {},
   "outputs": [],
   "source": [
    "# # Target the index\n",
    "# dense_index = pc.Index(index_name)\n",
    "\n",
    "# # Upsert the records into a namespace\n",
    "# dense_index.upsert_records(\"example-namespace\", records)\n"
   ]
  },
  {
   "cell_type": "code",
   "execution_count": 5,
   "id": "603705d0",
   "metadata": {},
   "outputs": [],
   "source": [
    "# # Wait for the upserted vectors to be indexed\n",
    "# import time\n",
    "# time.sleep(10)\n",
    "\n",
    "# # View stats for the index\n",
    "# stats = dense_index.describe_index_stats()\n",
    "# print(stats)"
   ]
  },
  {
   "cell_type": "code",
   "execution_count": 6,
   "id": "308dfaf1",
   "metadata": {},
   "outputs": [],
   "source": [
    "# query = \"How do I access SAP and company tools?\"\n",
    "\n",
    "# results = dense_index.search(\n",
    "#     namespace=\"sap-onboarding\",\n",
    "#     query={\n",
    "#         \"top_k\": 10,\n",
    "#         \"inputs\": {\n",
    "#             'text': query\n",
    "#         }\n",
    "#     }\n",
    "# )\n",
    "\n",
    "# for hit in results['result']['hits']:\n",
    "#     print(\n",
    "#         f\"id: {hit['_id']:<5} | \"\n",
    "#         f\"score: {round(hit['_score'], 2):<5} | \"\n",
    "#         f\"category: {hit['fields']['category']:<15} | \"\n",
    "#         f\"text: {hit['fields']['chunk_text']:<80}\"\n",
    "#     )\n"
   ]
  },
  {
   "cell_type": "code",
   "execution_count": 7,
   "id": "19da7546",
   "metadata": {},
   "outputs": [],
   "source": [
    "# # Search the dense index and rerank results\n",
    "# reranked_results = dense_index.search(\n",
    "#     namespace=\"example-namespace\",\n",
    "#     query={\n",
    "#         \"top_k\": 10,\n",
    "#         \"inputs\": {\n",
    "#             'text': query\n",
    "#         }\n",
    "#     },\n",
    "#     rerank={\n",
    "#         \"model\": \"bge-reranker-v2-m3\",\n",
    "#         \"top_n\": 10,\n",
    "#         \"rank_fields\": [\"chunk_text\"]\n",
    "#     }   \n",
    "# )\n",
    "\n",
    "# # Print the reranked results\n",
    "# for hit in reranked_results['result']['hits']:\n",
    "#     print(f\"id: {hit['_id']}, score: {round(hit['_score'], 2)}, text: {hit['fields']['chunk_text']}, category: {hit['fields']['category']}\")\n"
   ]
  },
  {
   "cell_type": "code",
   "execution_count": 8,
   "id": "369e106c",
   "metadata": {},
   "outputs": [],
   "source": [
    "# # Delete the index\n",
    "# pc.delete_index(index_name)\n"
   ]
  },
  {
   "cell_type": "markdown",
   "id": "a32b58fb",
   "metadata": {},
   "source": [
    "openai "
   ]
  },
  {
   "cell_type": "code",
   "execution_count": 9,
   "id": "524ce797",
   "metadata": {},
   "outputs": [],
   "source": [
    "# !pip3 install -q pinecone-client openai langchain langchain-text-splitters\n"
   ]
  },
  {
   "cell_type": "code",
   "execution_count": 10,
   "id": "2a567692",
   "metadata": {},
   "outputs": [],
   "source": [
    "# import time\n",
    "# from typing import List, TypedDict\n",
    "\n",
    "# from langchain import hub\n",
    "# from langchain.chat_models import ChatOpenAI\n",
    "# from langchain_core.documents import Document\n",
    "# from langchain_text_splitters import RecursiveCharacterTextSplitter\n",
    "\n",
    "# import pinecone\n",
    "# from pinecone import Pinecone\n",
    "\n",
    "\n"
   ]
  },
  {
   "cell_type": "code",
   "execution_count": 11,
   "id": "f542c448",
   "metadata": {},
   "outputs": [],
   "source": [
    "# # Initialize a Pinecone client with your API key\n",
    "# pc = Pinecone(api_key=\"pcsk_4qt3ZT_U7hLvXByvnhPbktY96YWtg4vh4TQqURmWBWHuLJZquBFQTBNXaaayfbPo8G7ZmT\")\n",
    "\n",
    "# # Create a dense index with integrated embedding\n",
    "# index_name = \"sap-onboarding-index\"\n",
    "# if not pc.has_index(index_name):\n",
    "#     pc.create_index_for_model(\n",
    "#         name=index_name,\n",
    "#         cloud=\"aws\",\n",
    "#         region=\"us-east-1\",\n",
    "#         embed={\n",
    "#             \"model\":\"llama-text-embed-v2\",\n",
    "#             \"field_map\":{\"text\": \"chunk_text\"}\n",
    "#         }\n",
    "#     )\n"
   ]
  },
  {
   "cell_type": "code",
   "execution_count": 12,
   "id": "db9c5c9c",
   "metadata": {},
   "outputs": [],
   "source": [
    "# records = [\n",
    "#     {\"_id\": \"rec1\", \"chunk_text\": \"What is SAP used for? SAP is software that helps companies manage business activities like finance, sales, supply chain, and HR. It keeps all important data in one system so different teams can work together smoothly.\", \"category\": \"SAP Overview\"},\n",
    "#     {\"_id\": \"rec2\", \"chunk_text\": \"What is SAP HANA? SAP HANA is a fast database that stores company information in memory. This makes reports and analytics much faster compared to traditional databases.\", \"category\": \"SAP Overview\"},\n",
    "#     {\"_id\": \"rec3\", \"chunk_text\": \"What is the difference between SAP ECC and SAP S/4HANA? SAP ECC is the older version of SAP's ERP system. SAP S/4HANA is the newer version, designed to be faster and simpler, and it runs only on the HANA database.\", \"category\": \"SAP Overview\"},\n",
    "#     {\"_id\": \"rec4\", \"chunk_text\": \"What does 'in-memory' mean in SAP HANA? It means data is stored in the computer's memory (RAM) instead of on a hard disk. This allows SAP to process data in real time, like generating instant reports.\", \"category\": \"SAP Overview\"},\n",
    "#     {\"_id\": \"rec5\", \"chunk_text\": \"What is SAP Fiori? SAP Fiori is a modern, user-friendly way to use SAP applications. It looks like apps on your phone, making it easier to navigate compared to the older SAP screens.\", \"category\": \"SAP Interface\"},\n",
    "#     {\"_id\": \"rec6\", \"chunk_text\": \"How does SAP keep data secure? SAP uses login credentials, role-based permissions, and data encryption. This ensures employees only see the information they need for their job.\", \"category\": \"SAP Security\"},\n",
    "#     {\"_id\": \"rec7\", \"chunk_text\": \"How do I access the company email system? New employees can access the company email via Outlook using your corporate credentials. Set up instructions are in the IT onboarding guide.\", \"category\": \"IT & Tools\"},\n",
    "#     {\"_id\": \"rec8\", \"chunk_text\": \"Who should I contact for HR-related questions? For questions about benefits, leave, or payroll, contact the HR team at hr@company.com or check the HR portal.\", \"category\": \"HR\"},\n",
    "#     {\"_id\": \"rec9\", \"chunk_text\": \"How do I log into the internal SAP system? Use your employee ID and temporary password provided during onboarding. After first login, you’ll be prompted to set a new password.\", \"category\": \"SAP Access\"},\n",
    "#     {\"_id\": \"rec10\", \"chunk_text\": \"Where can I find company policies and guidelines? All company policies are available in the internal employee portal under 'Documents & Policies'.\", \"category\": \"Policies\"},\n",
    "#     {\"_id\": \"rec11\", \"chunk_text\": \"Who do I contact if I have technical issues? Contact the IT helpdesk at it-support@company.com or submit a ticket via the support portal for assistance.\", \"category\": \"IT & Support\"}\n",
    "# ]\n"
   ]
  },
  {
   "cell_type": "code",
   "execution_count": 13,
   "id": "2b7d06d1",
   "metadata": {},
   "outputs": [],
   "source": [
    "# dense_index = pc.Index(index_name)"
   ]
  },
  {
   "cell_type": "code",
   "execution_count": 14,
   "id": "d87976cc",
   "metadata": {},
   "outputs": [],
   "source": [
    "# dense_index.upsert_records(\"sap-onboarding\", records)"
   ]
  },
  {
   "cell_type": "code",
   "execution_count": 15,
   "id": "e4695f18",
   "metadata": {},
   "outputs": [],
   "source": [
    "# time.sleep(5)\n"
   ]
  },
  {
   "cell_type": "code",
   "execution_count": 16,
   "id": "c76a0a19",
   "metadata": {},
   "outputs": [],
   "source": [
    "# # View index stats\n",
    "# stats = dense_index.describe_index_stats()\n",
    "# print(stats)\n",
    "\n",
    "# # Search the index\n",
    "# query = \"How do I access SAP and company tools?\"\n",
    "# results = dense_index.search(\n",
    "#     namespace=\"sap-onboarding\",\n",
    "#     query={\n",
    "#         \"top_k\": 10,\n",
    "#         \"inputs\": {\"text\": query}\n",
    "#     }\n",
    "# )\n",
    "\n",
    "# # Print results\n",
    "# for hit in results['result']['hits']:\n",
    "#     print(f\"id: {hit['_id']:<5} | score: {round(hit['_score'],2):<5} | category: {hit['fields']['category']:<15} | text: {hit['fields']['chunk_text'][:80]}...\")\n"
   ]
  },
  {
   "cell_type": "code",
   "execution_count": 17,
   "id": "96332710",
   "metadata": {},
   "outputs": [],
   "source": [
    "# reranked_results = dense_index.search(\n",
    "#     namespace=\"sap-onboarding\",\n",
    "#     query={\n",
    "#         \"top_k\": 10,\n",
    "#         \"inputs\": {\"text\": query}\n",
    "#     },\n",
    "#     rerank={\n",
    "#         \"model\": \"bge-reranker-v2-m3\",\n",
    "#         \"top_n\": 10,\n",
    "#         \"rank_fields\": [\"chunk_text\"]\n",
    "#     }\n",
    "# )\n",
    "\n",
    "# for hit in reranked_results['result']['hits']:\n",
    "#     print(f\"id: {hit['_id']}, score: {round(hit['_score'], 2)}, category: {hit['fields']['category']}, text: {hit['fields']['chunk_text'][:80]}...\")\n"
   ]
  },
  {
   "cell_type": "code",
   "execution_count": 18,
   "id": "d980f273",
   "metadata": {},
   "outputs": [],
   "source": [
    "# query = \"How do I log into SAP?\"\n",
    "# results = dense_index.search(\n",
    "#     namespace=\"sap-onboarding\",\n",
    "#     query={\"top_k\": 5, \"inputs\": {\"text\": query}}\n",
    "# )\n",
    "\n",
    "# for hit in results['result']['hits']:\n",
    "#     print(hit['_id'], hit['_score'], hit['fields']['chunk_text'][:80])\n"
   ]
  },
  {
   "cell_type": "code",
   "execution_count": null,
   "id": "b1e7a796",
   "metadata": {},
   "outputs": [],
   "source": []
  }
 ],
 "metadata": {
  "kernelspec": {
   "display_name": ".venv",
   "language": "python",
   "name": "python3"
  },
  "language_info": {
   "codemirror_mode": {
    "name": "ipython",
    "version": 3
   },
   "file_extension": ".py",
   "mimetype": "text/x-python",
   "name": "python",
   "nbconvert_exporter": "python",
   "pygments_lexer": "ipython3",
   "version": "3.12.1"
  }
 },
 "nbformat": 4,
 "nbformat_minor": 5
}
