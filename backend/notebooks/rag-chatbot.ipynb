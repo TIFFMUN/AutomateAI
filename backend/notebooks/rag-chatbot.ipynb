{
 "cells": [
  {
   "cell_type": "code",
   "execution_count": 8,
   "id": "bedb8e4b",
   "metadata": {},
   "outputs": [
    {
     "name": "stdout",
     "output_type": "stream",
     "text": [
      "Requirement already satisfied: langchain_community in c:\\users\\tiffany mun\\automateai\\.venv\\lib\\site-packages (0.3.29)\n",
      "Requirement already satisfied: langchain_pinecone in c:\\users\\tiffany mun\\automateai\\.venv\\lib\\site-packages (0.2.12)\n",
      "Requirement already satisfied: langchain_openai in c:\\users\\tiffany mun\\automateai\\.venv\\lib\\site-packages (0.3.33)\n",
      "Requirement already satisfied: unstructured in c:\\users\\tiffany mun\\automateai\\.venv\\lib\\site-packages (0.18.15)\n",
      "Requirement already satisfied: langchainhub in c:\\users\\tiffany mun\\automateai\\.venv\\lib\\site-packages (0.1.21)\n",
      "Requirement already satisfied: langchain_text_splitters in c:\\users\\tiffany mun\\automateai\\.venv\\lib\\site-packages (0.3.11)\n",
      "Requirement already satisfied: langchain-core<2.0.0,>=0.3.75 in c:\\users\\tiffany mun\\automateai\\.venv\\lib\\site-packages (from langchain_community) (0.3.76)\n",
      "Requirement already satisfied: langchain<2.0.0,>=0.3.27 in c:\\users\\tiffany mun\\automateai\\.venv\\lib\\site-packages (from langchain_community) (0.3.27)\n",
      "Requirement already satisfied: SQLAlchemy<3,>=1.4 in c:\\users\\tiffany mun\\automateai\\.venv\\lib\\site-packages (from langchain_community) (2.0.23)\n",
      "Requirement already satisfied: requests<3,>=2.32.5 in c:\\users\\tiffany mun\\automateai\\.venv\\lib\\site-packages (from langchain_community) (2.32.5)\n",
      "Requirement already satisfied: PyYAML>=5.3 in c:\\users\\tiffany mun\\automateai\\.venv\\lib\\site-packages (from langchain_community) (6.0.2)\n",
      "Requirement already satisfied: aiohttp<4.0.0,>=3.8.3 in c:\\users\\tiffany mun\\automateai\\.venv\\lib\\site-packages (from langchain_community) (3.12.15)\n",
      "Requirement already satisfied: tenacity!=8.4.0,<10,>=8.1.0 in c:\\users\\tiffany mun\\automateai\\.venv\\lib\\site-packages (from langchain_community) (8.5.0)\n",
      "Requirement already satisfied: dataclasses-json<0.7,>=0.6.7 in c:\\users\\tiffany mun\\automateai\\.venv\\lib\\site-packages (from langchain_community) (0.6.7)\n",
      "Requirement already satisfied: pydantic-settings<3.0.0,>=2.10.1 in c:\\users\\tiffany mun\\automateai\\.venv\\lib\\site-packages (from langchain_community) (2.10.1)\n",
      "Requirement already satisfied: langsmith>=0.1.125 in c:\\users\\tiffany mun\\automateai\\.venv\\lib\\site-packages (from langchain_community) (0.4.30)\n",
      "Requirement already satisfied: httpx-sse<1.0.0,>=0.4.0 in c:\\users\\tiffany mun\\automateai\\.venv\\lib\\site-packages (from langchain_community) (0.4.1)\n",
      "Requirement already satisfied: numpy>=1.26.2 in c:\\users\\tiffany mun\\automateai\\.venv\\lib\\site-packages (from langchain_community) (1.26.4)\n",
      "Requirement already satisfied: aiohappyeyeballs>=2.5.0 in c:\\users\\tiffany mun\\automateai\\.venv\\lib\\site-packages (from aiohttp<4.0.0,>=3.8.3->langchain_community) (2.6.1)\n",
      "Requirement already satisfied: aiosignal>=1.4.0 in c:\\users\\tiffany mun\\automateai\\.venv\\lib\\site-packages (from aiohttp<4.0.0,>=3.8.3->langchain_community) (1.4.0)\n",
      "Requirement already satisfied: attrs>=17.3.0 in c:\\users\\tiffany mun\\automateai\\.venv\\lib\\site-packages (from aiohttp<4.0.0,>=3.8.3->langchain_community) (25.3.0)\n",
      "Requirement already satisfied: frozenlist>=1.1.1 in c:\\users\\tiffany mun\\automateai\\.venv\\lib\\site-packages (from aiohttp<4.0.0,>=3.8.3->langchain_community) (1.7.0)\n",
      "Requirement already satisfied: multidict<7.0,>=4.5 in c:\\users\\tiffany mun\\automateai\\.venv\\lib\\site-packages (from aiohttp<4.0.0,>=3.8.3->langchain_community) (6.6.4)\n",
      "Requirement already satisfied: propcache>=0.2.0 in c:\\users\\tiffany mun\\automateai\\.venv\\lib\\site-packages (from aiohttp<4.0.0,>=3.8.3->langchain_community) (0.3.2)\n",
      "Requirement already satisfied: yarl<2.0,>=1.17.0 in c:\\users\\tiffany mun\\automateai\\.venv\\lib\\site-packages (from aiohttp<4.0.0,>=3.8.3->langchain_community) (1.20.1)\n",
      "Requirement already satisfied: marshmallow<4.0.0,>=3.18.0 in c:\\users\\tiffany mun\\automateai\\.venv\\lib\\site-packages (from dataclasses-json<0.7,>=0.6.7->langchain_community) (3.26.1)\n",
      "Requirement already satisfied: typing-inspect<1,>=0.4.0 in c:\\users\\tiffany mun\\automateai\\.venv\\lib\\site-packages (from dataclasses-json<0.7,>=0.6.7->langchain_community) (0.9.0)\n",
      "Requirement already satisfied: pydantic<3.0.0,>=2.7.4 in c:\\users\\tiffany mun\\automateai\\.venv\\lib\\site-packages (from langchain<2.0.0,>=0.3.27->langchain_community) (2.11.9)\n",
      "Requirement already satisfied: jsonpatch<2.0,>=1.33 in c:\\users\\tiffany mun\\automateai\\.venv\\lib\\site-packages (from langchain-core<2.0.0,>=0.3.75->langchain_community) (1.33)\n",
      "Requirement already satisfied: typing-extensions>=4.7 in c:\\users\\tiffany mun\\automateai\\.venv\\lib\\site-packages (from langchain-core<2.0.0,>=0.3.75->langchain_community) (4.15.0)\n",
      "Requirement already satisfied: packaging>=23.2 in c:\\users\\tiffany mun\\automateai\\.venv\\lib\\site-packages (from langchain-core<2.0.0,>=0.3.75->langchain_community) (24.2)\n",
      "Requirement already satisfied: jsonpointer>=1.9 in c:\\users\\tiffany mun\\automateai\\.venv\\lib\\site-packages (from jsonpatch<2.0,>=1.33->langchain-core<2.0.0,>=0.3.75->langchain_community) (3.0.0)\n",
      "Requirement already satisfied: annotated-types>=0.6.0 in c:\\users\\tiffany mun\\automateai\\.venv\\lib\\site-packages (from pydantic<3.0.0,>=2.7.4->langchain<2.0.0,>=0.3.27->langchain_community) (0.7.0)\n",
      "Requirement already satisfied: pydantic-core==2.33.2 in c:\\users\\tiffany mun\\automateai\\.venv\\lib\\site-packages (from pydantic<3.0.0,>=2.7.4->langchain<2.0.0,>=0.3.27->langchain_community) (2.33.2)\n",
      "Requirement already satisfied: typing-inspection>=0.4.0 in c:\\users\\tiffany mun\\automateai\\.venv\\lib\\site-packages (from pydantic<3.0.0,>=2.7.4->langchain<2.0.0,>=0.3.27->langchain_community) (0.4.1)\n",
      "Requirement already satisfied: python-dotenv>=0.21.0 in c:\\users\\tiffany mun\\automateai\\.venv\\lib\\site-packages (from pydantic-settings<3.0.0,>=2.10.1->langchain_community) (1.0.0)\n",
      "Requirement already satisfied: charset_normalizer<4,>=2 in c:\\users\\tiffany mun\\automateai\\.venv\\lib\\site-packages (from requests<3,>=2.32.5->langchain_community) (3.4.3)\n",
      "Requirement already satisfied: idna<4,>=2.5 in c:\\users\\tiffany mun\\automateai\\.venv\\lib\\site-packages (from requests<3,>=2.32.5->langchain_community) (3.10)\n",
      "Requirement already satisfied: urllib3<3,>=1.21.1 in c:\\users\\tiffany mun\\automateai\\.venv\\lib\\site-packages (from requests<3,>=2.32.5->langchain_community) (2.5.0)\n",
      "Requirement already satisfied: certifi>=2017.4.17 in c:\\users\\tiffany mun\\automateai\\.venv\\lib\\site-packages (from requests<3,>=2.32.5->langchain_community) (2025.8.3)\n",
      "Requirement already satisfied: greenlet!=0.4.17 in c:\\users\\tiffany mun\\automateai\\.venv\\lib\\site-packages (from SQLAlchemy<3,>=1.4->langchain_community) (3.2.4)\n",
      "Requirement already satisfied: mypy-extensions>=0.3.0 in c:\\users\\tiffany mun\\automateai\\.venv\\lib\\site-packages (from typing-inspect<1,>=0.4.0->dataclasses-json<0.7,>=0.6.7->langchain_community) (1.1.0)\n",
      "Requirement already satisfied: pinecone<8.0.0,>=6.0.0 in c:\\users\\tiffany mun\\automateai\\.venv\\lib\\site-packages (from pinecone[asyncio]<8.0.0,>=6.0.0->langchain_pinecone) (7.3.0)\n",
      "Requirement already satisfied: httpx>=0.28.0 in c:\\users\\tiffany mun\\automateai\\.venv\\lib\\site-packages (from langchain_pinecone) (0.28.1)\n",
      "Requirement already satisfied: simsimd>=5.9.11 in c:\\users\\tiffany mun\\automateai\\.venv\\lib\\site-packages (from langchain_pinecone) (6.5.3)\n",
      "Requirement already satisfied: pinecone-plugin-assistant<2.0.0,>=1.6.0 in c:\\users\\tiffany mun\\automateai\\.venv\\lib\\site-packages (from pinecone<8.0.0,>=6.0.0->pinecone[asyncio]<8.0.0,>=6.0.0->langchain_pinecone) (1.8.0)\n",
      "Requirement already satisfied: pinecone-plugin-interface<0.0.8,>=0.0.7 in c:\\users\\tiffany mun\\automateai\\.venv\\lib\\site-packages (from pinecone<8.0.0,>=6.0.0->pinecone[asyncio]<8.0.0,>=6.0.0->langchain_pinecone) (0.0.7)\n",
      "Requirement already satisfied: python-dateutil>=2.5.3 in c:\\users\\tiffany mun\\automateai\\.venv\\lib\\site-packages (from pinecone<8.0.0,>=6.0.0->pinecone[asyncio]<8.0.0,>=6.0.0->langchain_pinecone) (2.9.0.post0)\n",
      "Requirement already satisfied: aiohttp-retry<3.0.0,>=2.9.1 in c:\\users\\tiffany mun\\automateai\\.venv\\lib\\site-packages (from pinecone[asyncio]<8.0.0,>=6.0.0->langchain_pinecone) (2.9.1)\n",
      "Requirement already satisfied: openai<2.0.0,>=1.104.2 in c:\\users\\tiffany mun\\automateai\\.venv\\lib\\site-packages (from langchain_openai) (1.109.0)\n",
      "Requirement already satisfied: tiktoken<1,>=0.7 in c:\\users\\tiffany mun\\automateai\\.venv\\lib\\site-packages (from langchain_openai) (0.11.0)\n",
      "Requirement already satisfied: anyio<5,>=3.5.0 in c:\\users\\tiffany mun\\automateai\\.venv\\lib\\site-packages (from openai<2.0.0,>=1.104.2->langchain_openai) (3.7.1)\n",
      "Requirement already satisfied: distro<2,>=1.7.0 in c:\\users\\tiffany mun\\automateai\\.venv\\lib\\site-packages (from openai<2.0.0,>=1.104.2->langchain_openai) (1.9.0)\n",
      "Requirement already satisfied: jiter<1,>=0.4.0 in c:\\users\\tiffany mun\\automateai\\.venv\\lib\\site-packages (from openai<2.0.0,>=1.104.2->langchain_openai) (0.11.0)\n",
      "Requirement already satisfied: sniffio in c:\\users\\tiffany mun\\automateai\\.venv\\lib\\site-packages (from openai<2.0.0,>=1.104.2->langchain_openai) (1.3.1)\n",
      "Requirement already satisfied: tqdm>4 in c:\\users\\tiffany mun\\automateai\\.venv\\lib\\site-packages (from openai<2.0.0,>=1.104.2->langchain_openai) (4.67.1)\n",
      "Requirement already satisfied: httpcore==1.* in c:\\users\\tiffany mun\\automateai\\.venv\\lib\\site-packages (from httpx>=0.28.0->langchain_pinecone) (1.0.9)\n",
      "Requirement already satisfied: h11>=0.16 in c:\\users\\tiffany mun\\automateai\\.venv\\lib\\site-packages (from httpcore==1.*->httpx>=0.28.0->langchain_pinecone) (0.16.0)\n",
      "Requirement already satisfied: regex>=2022.1.18 in c:\\users\\tiffany mun\\automateai\\.venv\\lib\\site-packages (from tiktoken<1,>=0.7->langchain_openai) (2025.9.18)\n",
      "Requirement already satisfied: filetype in c:\\users\\tiffany mun\\automateai\\.venv\\lib\\site-packages (from unstructured) (1.2.0)\n",
      "Requirement already satisfied: python-magic in c:\\users\\tiffany mun\\automateai\\.venv\\lib\\site-packages (from unstructured) (0.4.27)\n",
      "Requirement already satisfied: lxml in c:\\users\\tiffany mun\\automateai\\.venv\\lib\\site-packages (from unstructured) (6.0.2)\n",
      "Requirement already satisfied: nltk in c:\\users\\tiffany mun\\automateai\\.venv\\lib\\site-packages (from unstructured) (3.9.1)\n",
      "Requirement already satisfied: beautifulsoup4 in c:\\users\\tiffany mun\\automateai\\.venv\\lib\\site-packages (from unstructured) (4.13.5)\n",
      "Requirement already satisfied: emoji in c:\\users\\tiffany mun\\automateai\\.venv\\lib\\site-packages (from unstructured) (2.15.0)\n",
      "Requirement already satisfied: python-iso639 in c:\\users\\tiffany mun\\automateai\\.venv\\lib\\site-packages (from unstructured) (2025.2.18)\n",
      "Requirement already satisfied: langdetect in c:\\users\\tiffany mun\\automateai\\.venv\\lib\\site-packages (from unstructured) (1.0.9)\n",
      "Requirement already satisfied: rapidfuzz in c:\\users\\tiffany mun\\automateai\\.venv\\lib\\site-packages (from unstructured) (3.14.1)\n",
      "Requirement already satisfied: backoff in c:\\users\\tiffany mun\\automateai\\.venv\\lib\\site-packages (from unstructured) (2.2.1)\n",
      "Requirement already satisfied: unstructured-client in c:\\users\\tiffany mun\\automateai\\.venv\\lib\\site-packages (from unstructured) (0.42.3)\n",
      "Requirement already satisfied: wrapt in c:\\users\\tiffany mun\\automateai\\.venv\\lib\\site-packages (from unstructured) (1.17.3)\n",
      "Requirement already satisfied: psutil in c:\\users\\tiffany mun\\automateai\\.venv\\lib\\site-packages (from unstructured) (7.1.0)\n",
      "Requirement already satisfied: python-oxmsg in c:\\users\\tiffany mun\\automateai\\.venv\\lib\\site-packages (from unstructured) (0.0.2)\n",
      "Requirement already satisfied: html5lib in c:\\users\\tiffany mun\\automateai\\.venv\\lib\\site-packages (from unstructured) (1.1)\n",
      "Requirement already satisfied: types-requests<3.0.0.0,>=2.31.0.2 in c:\\users\\tiffany mun\\automateai\\.venv\\lib\\site-packages (from langchainhub) (2.32.4.20250913)\n",
      "Requirement already satisfied: orjson>=3.9.14 in c:\\users\\tiffany mun\\automateai\\.venv\\lib\\site-packages (from langsmith>=0.1.125->langchain_community) (3.11.3)\n",
      "Requirement already satisfied: requests-toolbelt>=1.0.0 in c:\\users\\tiffany mun\\automateai\\.venv\\lib\\site-packages (from langsmith>=0.1.125->langchain_community) (1.0.0)\n",
      "Requirement already satisfied: zstandard>=0.23.0 in c:\\users\\tiffany mun\\automateai\\.venv\\lib\\site-packages (from langsmith>=0.1.125->langchain_community) (0.25.0)\n",
      "Requirement already satisfied: six>=1.5 in c:\\users\\tiffany mun\\automateai\\.venv\\lib\\site-packages (from python-dateutil>=2.5.3->pinecone<8.0.0,>=6.0.0->pinecone[asyncio]<8.0.0,>=6.0.0->langchain_pinecone) (1.17.0)\n",
      "Requirement already satisfied: colorama in c:\\users\\tiffany mun\\automateai\\.venv\\lib\\site-packages (from tqdm>4->openai<2.0.0,>=1.104.2->langchain_openai) (0.4.6)\n",
      "Requirement already satisfied: soupsieve>1.2 in c:\\users\\tiffany mun\\automateai\\.venv\\lib\\site-packages (from beautifulsoup4->unstructured) (2.8)\n",
      "Requirement already satisfied: webencodings in c:\\users\\tiffany mun\\automateai\\.venv\\lib\\site-packages (from html5lib->unstructured) (0.5.1)\n",
      "Requirement already satisfied: click in c:\\users\\tiffany mun\\automateai\\.venv\\lib\\site-packages (from nltk->unstructured) (8.3.0)\n",
      "Requirement already satisfied: joblib in c:\\users\\tiffany mun\\automateai\\.venv\\lib\\site-packages (from nltk->unstructured) (1.5.2)\n",
      "Requirement already satisfied: olefile in c:\\users\\tiffany mun\\automateai\\.venv\\lib\\site-packages (from python-oxmsg->unstructured) (0.47)\n",
      "Requirement already satisfied: aiofiles>=24.1.0 in c:\\users\\tiffany mun\\automateai\\.venv\\lib\\site-packages (from unstructured-client->unstructured) (24.1.0)\n",
      "Requirement already satisfied: cryptography>=3.1 in c:\\users\\tiffany mun\\automateai\\.venv\\lib\\site-packages (from unstructured-client->unstructured) (46.0.1)\n",
      "Requirement already satisfied: pypdf>=4.0 in c:\\users\\tiffany mun\\automateai\\.venv\\lib\\site-packages (from unstructured-client->unstructured) (6.1.0)\n",
      "Requirement already satisfied: cffi>=2.0.0 in c:\\users\\tiffany mun\\automateai\\.venv\\lib\\site-packages (from cryptography>=3.1->unstructured-client->unstructured) (2.0.0)\n",
      "Requirement already satisfied: pycparser in c:\\users\\tiffany mun\\automateai\\.venv\\lib\\site-packages (from cffi>=2.0.0->cryptography>=3.1->unstructured-client->unstructured) (2.23)\n"
     ]
    }
   ],
   "source": [
    "!pip install langchain_community langchain_pinecone langchain_openai unstructured langchainhub langchain_text_splitters\n"
   ]
  },
  {
   "cell_type": "code",
   "execution_count": 9,
   "id": "7486bfc4",
   "metadata": {},
   "outputs": [],
   "source": [
    "from langchain_pinecone import PineconeVectorStore\n",
    "from langchain_openai import OpenAIEmbeddings\n",
    "from langchain_community.document_loaders import DirectoryLoader\n",
    "from langchain_core.output_parsers import StrOutputParser\n",
    "from langchain_core.runnables import RunnablePassthrough\n",
    "from langchain_text_splitters import RecursiveCharacterTextSplitter\n",
    "import os\n",
    "import glob\n"
   ]
  },
  {
   "cell_type": "code",
   "execution_count": 11,
   "id": "188a5074",
   "metadata": {},
   "outputs": [],
   "source": [
    "from langchain.schema import Document\n",
    "sample_docs = [\n",
    "    Document(page_content=\"Q: How do I request access to SAP?\\nA: You need to submit a request via the SAP Access Portal and get approval from your manager.\"),\n",
    "    Document(page_content=\"Q: How do I reset my SAP password?\\nA: Use the SAP Password Reset tool or contact IT support for assistance.\"),\n",
    "    Document(page_content=\"Q: What are the required trainings before accessing SAP?\\nA: Complete the mandatory SAP onboarding e-learning modules assigned by HR.\"),\n",
    "    Document(page_content=\"Q: Who do I contact for SAP issues?\\nA: Contact the SAP Support Desk via email or internal ticketing system.\")\n",
    "]\n"
   ]
  },
  {
   "cell_type": "code",
   "execution_count": 12,
   "id": "e6a569fb",
   "metadata": {},
   "outputs": [
    {
     "name": "stdout",
     "output_type": "stream",
     "text": [
      "{'dimension': 3072,\n",
      " 'index_fullness': 0.0,\n",
      " 'metric': 'euclidean',\n",
      " 'namespaces': {},\n",
      " 'total_vector_count': 0,\n",
      " 'vector_type': 'dense'}\n"
     ]
    }
   ],
   "source": [
    "from pinecone import Pinecone, ServerlessSpec\n",
    "\n",
    "\n",
    "pc = Pinecone(api_key=os.environ.get('PINECONE_API_KEY'))\n",
    "index_name = 'sap-onboarding-faq'\n",
    "\n",
    "\n",
    "# Create index if not exists\n",
    "if index_name not in pc.list_indexes():\n",
    "    pc.create_index(\n",
    "        name=index_name,\n",
    "        dimension=3072,  # matches OpenAI embedding dimension\n",
    "        metric='euclidean',\n",
    "        deletion_protection='enabled',\n",
    "        spec=ServerlessSpec(cloud='aws', region='us-east-1')\n",
    "    )\n",
    "\n",
    "\n",
    "index = pc.Index(index_name)\n",
    "print(index.describe_index_stats())\n"
   ]
  },
  {
   "cell_type": "code",
   "execution_count": 13,
   "id": "2306e448",
   "metadata": {},
   "outputs": [],
   "source": [
    "# Initialize embeddings and the vector store\n",
    "embeddings = OpenAIEmbeddings(\n",
    "    model='text-embedding-3-large'\n",
    ")\n",
    "text_splitter = RecursiveCharacterTextSplitter(chunk_size=1000, chunk_overlap=0)\n",
    "split_docs = text_splitter.split_documents(sample_docs)\n",
    "\n",
    "\n",
    "# Create a vector store for the documents using the specified embeddings\n",
    "vectorstore = PineconeVectorStore.from_documents(split_docs, embeddings, index_name=index_name)"
   ]
  },
  {
   "cell_type": "code",
   "execution_count": 14,
   "id": "b666b58e",
   "metadata": {},
   "outputs": [],
   "source": [
    "query = \"How can I reset my SAP password?\"\n",
    "results = vectorstore.similarity_search(query, k=3)\n"
   ]
  },
  {
   "cell_type": "code",
   "execution_count": 15,
   "id": "e964457e",
   "metadata": {},
   "outputs": [
    {
     "name": "stdout",
     "output_type": "stream",
     "text": [
      "Index stats: {'dimension': 3072,\n",
      " 'index_fullness': 0.0,\n",
      " 'metric': 'euclidean',\n",
      " 'namespaces': {'': {'vector_count': 8}},\n",
      " 'total_vector_count': 8,\n",
      " 'vector_type': 'dense'}\n"
     ]
    }
   ],
   "source": [
    "from pinecone import Pinecone, ServerlessSpec\n",
    "pc = Pinecone(api_key=os.environ['PINECONE_API_KEY'])\n",
    "index_name = \"sap-onboarding-faq4\"\n",
    "\n",
    "# Connect to the existing index\n",
    "index = pc.Index(index_name)\n",
    "print(\"Index stats:\", index.describe_index_stats())\n"
   ]
  }
 ],
 "metadata": {
  "kernelspec": {
   "display_name": ".venv",
   "language": "python",
   "name": "python3"
  },
  "language_info": {
   "codemirror_mode": {
    "name": "ipython",
    "version": 3
   },
   "file_extension": ".py",
   "mimetype": "text/x-python",
   "name": "python",
   "nbconvert_exporter": "python",
   "pygments_lexer": "ipython3",
   "version": "3.12.1"
  }
 },
 "nbformat": 4,
 "nbformat_minor": 5
}
